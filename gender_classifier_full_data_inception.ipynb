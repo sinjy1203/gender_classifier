{
  "nbformat": 4,
  "nbformat_minor": 0,
  "metadata": {
    "colab": {
      "name": "Untitled1.ipynb",
      "provenance": [],
      "collapsed_sections": [],
      "authorship_tag": "ABX9TyMhvHFKLGqi23OXLuBU/Z1J",
      "include_colab_link": true
    },
    "kernelspec": {
      "name": "python3",
      "display_name": "Python 3"
    },
    "accelerator": "GPU"
  },
  "cells": [
    {
      "cell_type": "markdown",
      "metadata": {
        "id": "view-in-github",
        "colab_type": "text"
      },
      "source": [
        "<a href=\"https://colab.research.google.com/github/sinjy1203/gender_classifier/blob/master/gender_classifier_full_data_inception.ipynb\" target=\"_parent\"><img src=\"https://colab.research.google.com/assets/colab-badge.svg\" alt=\"Open In Colab\"/></a>"
      ]
    },
    {
      "cell_type": "code",
      "metadata": {
        "id": "CHqPs9WYnsNY",
        "colab_type": "code",
        "colab": {}
      },
      "source": [
        "from tensorflow.keras import Model, Input\n",
        "from tensorflow.keras import layers"
      ],
      "execution_count": 0,
      "outputs": []
    },
    {
      "cell_type": "code",
      "metadata": {
        "id": "16Cjj6Dyywp6",
        "colab_type": "code",
        "colab": {}
      },
      "source": [
        "from tensorflow.keras.applications import InceptionV3\n",
        "conv_base = InceptionV3()\n",
        "conv_base.summary()"
      ],
      "execution_count": 0,
      "outputs": []
    },
    {
      "cell_type": "code",
      "metadata": {
        "id": "uEkc0a-kz-Rq",
        "colab_type": "code",
        "colab": {}
      },
      "source": [
        "from tensorflow.keras.utils import plot_model\n",
        "plot_model(conv_base, to_file='model.png', show_shapes=True)"
      ],
      "execution_count": 0,
      "outputs": []
    },
    {
      "cell_type": "code",
      "metadata": {
        "id": "I35VpgAjprLo",
        "colab_type": "code",
        "colab": {}
      },
      "source": [
        "def inception(input):\n",
        "    features = input.shape[-1] // 8\n",
        "    branch_1 = layers.Conv2D(features*4, 1, padding='SAME', kernel_initializer=\"he_normal\")(input)\n",
        "    branch_1 = layers.BatchNormalization()(branch_1)\n",
        "    branch_1 = layers.Activation(\"relu\")(branch_1)\n",
        "    branch_2 = layers.AveragePooling2D(3, 1, padding='SAME')(input)\n",
        "    branch_2 = layers.Conv2D(features*2, 3, padding='SAME', kernel_initializer='he_normal')(branch_2)\n",
        "    branch_2 = layers.BatchNormalization()(branch_2)\n",
        "    branch_2 = layers.Activation(\"relu\")(branch_2)\n",
        "    branch_3 = layers.Conv2D(features*4, 1, padding='SAME', kernel_initializer=\"he_normal\")(input)\n",
        "    branch_3 = layers.BatchNormalization()(branch_3)\n",
        "    branch_3 = layers.Activation(\"relu\")(branch_3)\n",
        "    branch_3 = layers.Conv2D(features*4, 3, padding='SAME', kernel_initializer=\"he_normal\")(branch_3)\n",
        "    branch_3 = layers.BatchNormalization()(branch_3)\n",
        "    branch_3 = layers.Activation(\"relu\")(branch_3)\n",
        "    branch_4 = layers.Conv2D(features*6, 1, padding='SAME', kernel_initializer=\"he_normal\")(input)\n",
        "    branch_4 = layers.BatchNormalization()(branch_4)\n",
        "    branch_4 = layers.Activation(\"relu\")(branch_4)\n",
        "    branch_4 = layers.Conv2D(features*6, 3, padding='SAME', kernel_initializer=\"he_normal\")(branch_4)\n",
        "    branch_4 = layers.BatchNormalization()(branch_4)\n",
        "    branch_4 = layers.Activation(\"relu\")(branch_4)\n",
        "    branch_4 = layers.Conv2D(features*6, 3, padding='SAME', kernel_initializer=\"he_normal\")(branch_4)\n",
        "    branch_4 = layers.BatchNormalization()(branch_4)\n",
        "    branch_4 = layers.Activation(\"relu\")(branch_4)\n",
        "    output = layers.concatenate([branch_1, branch_2, branch_3, branch_4], axis=-1)\n",
        "    return output\n",
        "\n",
        "input = Input(shape=(150, 150, 3))\n",
        "x = layers.Conv2D(32, 3, padding='SAME', kernel_initializer='he_normal')(input)\n",
        "x = layers.BatchNormalization()(x)\n",
        "x = layers.Activation(\"relu\")(x)\n",
        "x = layers.Conv2D(64, 3, padding='SAME', kernel_initializer='he_normal')(x)\n",
        "x = layers.BatchNormalization()(x)\n",
        "x = layers.Activation(\"relu\")(x)\n",
        "x = layers.Conv2D(128, 3, padding='SAME', kernel_initializer='he_normal')(x)\n",
        "x = layers.BatchNormalization()(x)\n",
        "x = layers.Activation(\"relu\")(x)\n",
        "x = layers.MaxPooling2D(2, strides=2)(x)\n",
        "x = inception(x)\n",
        "x = layers.MaxPooling2D(2, strides=2)(x)\n",
        "x = inception(x)\n",
        "x = layers.MaxPooling2D(2, strides=2)(x)\n",
        "x = inception(x)\n",
        "x = layers.MaxPooling2D(2, strides=2)(x)\n",
        "x = inception(x)\n",
        "x = layers.AveragePooling2D(9)(x)\n",
        "output = layers.Dense(1, activation='sigmoid')(x)\n",
        "model = Model(inputs=input, outputs=output)\n",
        "# model.summary()"
      ],
      "execution_count": 0,
      "outputs": []
    },
    {
      "cell_type": "code",
      "metadata": {
        "id": "8BglXljLB0IT",
        "colab_type": "code",
        "colab": {}
      },
      "source": [
        "from tensorflow.keras.preprocessing.image import ImageDataGenerator\n",
        "from tensorflow.keras import optimizers\n",
        "train_dir = \"/content/drive/My Drive/image_data/data/train1\"\n",
        "val_dir = \"/content/drive/My Drive/image_data/data/val/val_\"\n",
        "\n",
        "train_datagen = ImageDataGenerator(rescale=1./255, rotation_range=20, width_shift_range=0.1, height_shift_range=0.1, shear_range=0.1, zoom_range=0.1, horizontal_flip=True, fill_mode='nearest')\n",
        "test_datagen = ImageDataGenerator(rescale=1./255)\n",
        "train_generator = train_datagen.flow_from_directory(train_dir, target_size=(150,150), batch_size=64, class_mode='binary')\n",
        "test_generator = test_datagen.flow_from_directory(test_dir, target_size=(150,150), batch_size=64, class_mode='binary')\n",
        "val_generator = test_datagen.flow_from_directory(val_dir, target_size=(150,150), batch_size=64, class_mode='binary')"
      ],
      "execution_count": 0,
      "outputs": []
    },
    {
      "cell_type": "code",
      "metadata": {
        "id": "Pe4pH_3tyIdh",
        "colab_type": "code",
        "outputId": "10c5cfc6-b3c1-4507-9a8a-5d49df442032",
        "colab": {
          "base_uri": "https://localhost:8080/",
          "height": 36
        }
      },
      "source": [
        "model.compile(loss='binary_crossentropy', optimizer=optimizers.Adam(), metrics=['acc'])\n",
        "history = model.fit_generator(train_generator, steps_per_epoch=162770 // 64, epochs=5, validation_data=val_generator, validation_steps=19867 // 64)\n",
        "model.save(\"/content/drive/My Drive/model.h5\")"
      ],
      "execution_count": 0,
      "outputs": [
        {
          "output_type": "execute_result",
          "data": {
            "text/plain": [
              "870"
            ]
          },
          "metadata": {
            "tags": []
          },
          "execution_count": 32
        }
      ]
    }
  ]
}